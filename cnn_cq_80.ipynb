{
 "cells": [
  {
   "cell_type": "markdown",
   "metadata": {},
   "source": [
    "# Setup Imports"
   ]
  },
  {
   "cell_type": "code",
   "execution_count": 1,
   "metadata": {},
   "outputs": [],
   "source": [
    "# Setup Essentials\n",
    "import torch\n",
    "import torchvision\n",
    "import torchvision.transforms as transforms\n",
    "import numpy as np\n",
    "\n",
    "# Visualization\n",
    "import matplotlib.pyplot as plt\n",
    "\n",
    "# Models\n",
    "import torch.nn as nn\n",
    "import torch.nn.functional as F\n",
    "\n",
    "# Optimization Functions\n",
    "import torch.optim as optim"
   ]
  },
  {
   "cell_type": "code",
   "execution_count": 2,
   "metadata": {},
   "outputs": [
    {
     "name": "stdout",
     "output_type": "stream",
     "text": [
      "Files already downloaded and verified\n",
      "Files already downloaded and verified\n"
     ]
    }
   ],
   "source": [
    "# transform = transforms.Compose(\n",
    "#     [transforms.ToTensor(),\n",
    "    #  transforms.Normalize((0.5, 0.5, 0.5), (0.5, 0.5, 0.5))])\n",
    "\n",
    "# Define data transformations for data augmentation\n",
    "train_transform = transforms.Compose([\n",
    "    transforms.RandomHorizontalFlip(),  # Randomly flip the image horizontally\n",
    "    # transforms.RandomRotation(10),      # Randomly rotate the image by a maximum of 10 degrees\n",
    "    # transforms.RandomCrop(32, padding=2),  # Randomly crop the image with padding of 2 pixels\n",
    "    transforms.ToTensor(),              # Convert PIL Image to tensor\n",
    "    transforms.Normalize((0.5, 0.5, 0.5), (0.5, 0.5, 0.5))  # Normalize image pixel values\n",
    "])\n",
    "\n",
    "test_transform = transforms.Compose([\n",
    "    transforms.ToTensor(),\n",
    "    transforms.Normalize((0.5, 0.5, 0.5), (0.5, 0.5, 0.5))\n",
    "])\n",
    "\n",
    "batch_size = 32\n",
    "\n",
    "trainset = torchvision.datasets.CIFAR10(root='./data', train=True,\n",
    "                                        download=True, transform=train_transform)\n",
    "trainloader = torch.utils.data.DataLoader(trainset, batch_size=batch_size,\n",
    "                                          shuffle=True, num_workers=4)\n",
    "\n",
    "testset = torchvision.datasets.CIFAR10(root='./data', train=False,\n",
    "                                       download=True, transform=test_transform)\n",
    "testloader = torch.utils.data.DataLoader(testset, batch_size=batch_size,\n",
    "                                         shuffle=False, num_workers=4)\n",
    "\n",
    "classes = ('plane', 'car', 'bird', 'cat',\n",
    "           'deer', 'dog', 'frog', 'horse', 'ship', 'truck')"
   ]
  },
  {
   "cell_type": "markdown",
   "metadata": {},
   "source": [
    "# Visualize Data"
   ]
  },
  {
   "cell_type": "code",
   "execution_count": 3,
   "metadata": {},
   "outputs": [],
   "source": [
    "# def imshow(img):\n",
    "#     img = img / 2 + 0.5     # unnormalize\n",
    "#     npimg = img.numpy()\n",
    "#     plt.imshow(np.transpose(npimg, (1, 2, 0)))\n",
    "#     plt.show()\n",
    "\n",
    "# # get some random training images\n",
    "# dataiter = iter(trainloader)\n",
    "# images, labels = next(dataiter)\n",
    "\n",
    "# # show images\n",
    "# imshow(torchvision.utils.make_grid(images))\n",
    "# # print labels\n",
    "# print(' '.join(f'{classes[labels[j]]:5s}' for j in range(batch_size)))"
   ]
  },
  {
   "cell_type": "markdown",
   "metadata": {},
   "source": [
    "# Define Model"
   ]
  },
  {
   "cell_type": "code",
   "execution_count": 5,
   "metadata": {},
   "outputs": [
    {
     "name": "stdout",
     "output_type": "stream",
     "text": [
      "device=\"cuda\"\n"
     ]
    }
   ],
   "source": [
    "class Net(nn.Module):\n",
    "    def __init__(self):\n",
    "        super().__init__()\n",
    "        self.conv1 = nn.Conv2d(3, 32, kernel_size=3, padding=1)\n",
    "        nn.init.kaiming_uniform_(self.conv1.weight)\n",
    "        self.bn1 = nn.BatchNorm2d(32)\n",
    "        self.conv2 = nn.Conv2d(32, 32, kernel_size=3, padding=1)\n",
    "        nn.init.kaiming_uniform_(self.conv2.weight)\n",
    "        self.bn2 = nn.BatchNorm2d(32)\n",
    "        self.pool1 = nn.MaxPool2d(2, 2)\n",
    "        self.drop1 = nn.Dropout2d(0.2)\n",
    "        self.conv3 = nn.Conv2d(32, 64, kernel_size=3, padding=1)\n",
    "        nn.init.kaiming_uniform_(self.conv3.weight)\n",
    "        self.bn3 = nn.BatchNorm2d(64)\n",
    "        self.conv4 = nn.Conv2d(64, 64, kernel_size=3, padding=1)\n",
    "        nn.init.kaiming_uniform_(self.conv4.weight)\n",
    "        self.bn4 = nn.BatchNorm2d(64)\n",
    "        self.pool2 = nn.MaxPool2d(2, 2)\n",
    "        self.drop2 = nn.Dropout2d(0.3)\n",
    "        self.conv5 = nn.Conv2d(64, 128, kernel_size=3, padding=1)\n",
    "        nn.init.kaiming_uniform_(self.conv5.weight)\n",
    "        self.bn5 = nn.BatchNorm2d(128)\n",
    "        self.conv6 = nn.Conv2d(128, 128, kernel_size=3, padding=1)\n",
    "        nn.init.kaiming_uniform_(self.conv6.weight)\n",
    "        self.bn6 = nn.BatchNorm2d(128)\n",
    "        self.pool3 = nn.MaxPool2d(2, 2)\n",
    "        self.drop3 = nn.Dropout2d(0.4)\n",
    "        self.fc1 = nn.Linear(128 * 4 * 4, 128)\n",
    "        nn.init.kaiming_uniform_(self.fc1.weight)\n",
    "        self.bn7 = nn.BatchNorm1d(128)\n",
    "        self.drop4 = nn.Dropout(0.5)\n",
    "        self.fc2 = nn.Linear(128, 10)\n",
    "\n",
    "    def forward(self, x):\n",
    "        x = F.relu(self.bn1(self.conv1(x)))\n",
    "        x = F.relu(self.bn2(self.conv2(x)))\n",
    "        x = self.drop1(self.pool1(x))\n",
    "        x = F.relu(self.bn3(self.conv3(x)))\n",
    "        x = F.relu(self.bn4(self.conv4(x)))\n",
    "        x = self.drop2(self.pool2(x))\n",
    "        x = F.relu(self.bn5(self.conv5(x)))\n",
    "        x = F.relu(self.bn6(self.conv6(x)))\n",
    "        x = self.drop3(self.pool3(x))\n",
    "        x = x.view(-1, 128 * 4 * 4)\n",
    "        x = F.relu(self.bn7(self.fc1(x)))\n",
    "        x = self.drop4(x)\n",
    "        x = self.fc2(x)\n",
    "        return x\n",
    "\n",
    "\n",
    "# # Make use of GPU if possible\n",
    "device = (\n",
    "    \"cuda\"\n",
    "    if torch.cuda.is_available()\n",
    "    else \"mps\"\n",
    "    if torch.backends.mps.is_available()\n",
    "    else \"cpu\"\n",
    ")\n",
    "print(f\"device=\\\"{device}\\\"\")\n",
    "net = Net().to(device)\n",
    "criterion = nn.CrossEntropyLoss()\n",
    "optimizer = optim.SGD(net.parameters(), lr=0.001, momentum=0.9)"
   ]
  },
  {
   "cell_type": "markdown",
   "metadata": {},
   "source": [
    "# Train Model"
   ]
  },
  {
   "cell_type": "code",
   "execution_count": 6,
   "metadata": {},
   "outputs": [
    {
     "name": "stdout",
     "output_type": "stream",
     "text": [
      "epoch=1 loss=3102.5455973148346\n",
      "epoch=2 loss=2707.4954649209976\n",
      "epoch=3 loss=2564.0861209630966\n",
      "epoch=4 loss=2437.1656683683395\n",
      "epoch=5 loss=2341.81807243824\n",
      "epoch=6 loss=2243.132687866688\n",
      "epoch=7 loss=2163.024545609951\n",
      "epoch=8 loss=2092.761696398258\n",
      "epoch=9 loss=2012.55682605505\n",
      "epoch=10 loss=1950.7763873934746\n",
      "epoch=11 loss=1898.781487107277\n",
      "epoch=12 loss=1838.7401576638222\n",
      "epoch=13 loss=1787.9801351428032\n",
      "epoch=14 loss=1758.887875020504\n",
      "epoch=15 loss=1711.3090012073517\n",
      "epoch=16 loss=1682.074581503868\n",
      "epoch=17 loss=1645.8420303463936\n",
      "epoch=18 loss=1617.1569376587868\n",
      "epoch=19 loss=1593.3388969898224\n",
      "epoch=20 loss=1568.0121850967407\n",
      "epoch=21 loss=1540.5571097433567\n",
      "epoch=22 loss=1520.9868034124374\n",
      "epoch=23 loss=1495.373996168375\n",
      "epoch=24 loss=1485.0793501138687\n",
      "epoch=25 loss=1459.1228621900082\n",
      "epoch=26 loss=1432.677013874054\n",
      "epoch=27 loss=1421.1830591261387\n",
      "epoch=28 loss=1410.7660204470158\n",
      "epoch=29 loss=1393.042553693056\n",
      "epoch=30 loss=1376.345437169075\n",
      "epoch=31 loss=1361.5345396101475\n",
      "epoch=32 loss=1336.737344801426\n",
      "epoch=33 loss=1333.3814633190632\n",
      "epoch=34 loss=1315.82569116354\n",
      "epoch=35 loss=1300.9047881960869\n",
      "epoch=36 loss=1290.080460190773\n",
      "epoch=37 loss=1282.1161521673203\n",
      "epoch=38 loss=1260.9685084819794\n",
      "epoch=39 loss=1259.319967865944\n",
      "epoch=40 loss=1240.6300662755966\n",
      "epoch=41 loss=1232.1729018092155\n",
      "epoch=42 loss=1228.9187253415585\n",
      "epoch=43 loss=1220.716092735529\n",
      "epoch=44 loss=1203.363330423832\n",
      "epoch=45 loss=1191.3874942958355\n",
      "epoch=46 loss=1185.350442737341\n",
      "epoch=47 loss=1180.6679009497166\n",
      "epoch=48 loss=1164.635595023632\n",
      "epoch=49 loss=1150.0080122053623\n",
      "epoch=50 loss=1144.4451338797808\n",
      "epoch=51 loss=1130.9358170181513\n",
      "epoch=52 loss=1130.0006228983402\n",
      "epoch=53 loss=1114.37519043684\n",
      "epoch=54 loss=1116.986804395914\n",
      "epoch=55 loss=1101.2051104307175\n",
      "epoch=56 loss=1095.9308118224144\n",
      "epoch=57 loss=1091.9305446594954\n",
      "epoch=58 loss=1091.166143283248\n",
      "epoch=59 loss=1076.4642427563667\n",
      "epoch=60 loss=1074.2220808267593\n",
      "epoch=61 loss=1065.4995728433132\n",
      "epoch=62 loss=1055.6422332376242\n",
      "epoch=63 loss=1045.0749060362577\n",
      "epoch=64 loss=1050.0811036229134\n",
      "epoch=65 loss=1032.2355727106333\n",
      "epoch=66 loss=1030.3734699040651\n",
      "epoch=67 loss=1019.7390136420727\n",
      "epoch=68 loss=1014.8923274278641\n",
      "epoch=69 loss=1014.6922608017921\n",
      "epoch=70 loss=1001.0897439867258\n",
      "epoch=71 loss=1002.6700067818165\n",
      "epoch=72 loss=1001.3860178589821\n",
      "epoch=73 loss=984.8880440741777\n",
      "epoch=74 loss=983.2716327756643\n",
      "epoch=75 loss=978.866342023015\n",
      "epoch=76 loss=978.7216738760471\n",
      "epoch=77 loss=961.8005996495485\n",
      "epoch=78 loss=963.7079036533833\n",
      "epoch=79 loss=960.3292648643255\n",
      "epoch=80 loss=964.9776884317398\n",
      "epoch=81 loss=945.6584282070398\n",
      "epoch=82 loss=945.253595545888\n",
      "epoch=83 loss=927.1464720666409\n",
      "epoch=84 loss=939.6195542067289\n",
      "epoch=85 loss=928.1952877789736\n",
      "epoch=86 loss=927.3475964963436\n",
      "epoch=87 loss=929.8478210866451\n",
      "epoch=88 loss=916.9794016182423\n",
      "epoch=89 loss=907.6266441345215\n",
      "epoch=90 loss=907.6828852444887\n",
      "epoch=91 loss=898.5961310118437\n",
      "epoch=92 loss=893.799193918705\n",
      "epoch=93 loss=893.9415219277143\n",
      "epoch=94 loss=889.1857175976038\n",
      "epoch=95 loss=885.8120832890272\n",
      "epoch=96 loss=879.5724103301764\n",
      "epoch=97 loss=878.4659657180309\n",
      "epoch=98 loss=873.1661543697119\n",
      "epoch=99 loss=868.4650419056416\n",
      "epoch=100 loss=864.2007983773947\n",
      "Finished Training\n"
     ]
    }
   ],
   "source": [
    "losses = []\n",
    "\n",
    "for epoch in range(400):  # loop over the dataset multiple times\n",
    "    running_loss = 0.0\n",
    "    for i, data in enumerate(trainloader, 0):\n",
    "        # get the inputs; data is a list of [inputs, labels]\n",
    "        inputs, labels = data\n",
    "        inputs, labels = inputs.to(device), labels.to(device)\n",
    "        # zero the parameter gradients\n",
    "        optimizer.zero_grad()\n",
    "\n",
    "        # forward + backward + optimize\n",
    "        outputs = net(inputs)\n",
    "        loss = criterion(outputs, labels)\n",
    "        loss.backward()\n",
    "        optimizer.step()\n",
    "\n",
    "        # print statistics\n",
    "        running_loss += loss.item()\n",
    "        # if i % 2000 == 1999:    # print every 2000 mini-batches\n",
    "            # print(f'[{epoch + 1}, {i + 1:5d}] loss: {running_loss / 10000:.3f}')\n",
    "            # running_loss = 0.0\n",
    "\n",
    "    print(f'epoch={epoch + 1} loss={running_loss}')\n",
    "    losses.append(running_loss)\n",
    "    \n",
    "    # if epoch > 9:\n",
    "    #     if losses[epoch-10] - (running_loss) < 0.01:\n",
    "    #         break\n",
    "\n",
    "\n",
    "print('Finished Training')"
   ]
  },
  {
   "cell_type": "code",
   "execution_count": 7,
   "metadata": {},
   "outputs": [
    {
     "data": {
      "image/png": "[encoded data removed]",
      "text/plain": [
       "<Figure size 640x480 with 1 Axes>"
      ]
     },
     "metadata": {},
     "output_type": "display_data"
    }
   ],
   "source": [
    "plt.plot(losses, 'r')  # Plotting the loss values with red color ('r')\n",
    "plt.xlabel('Epochs')  # Labeling the x-axis as 'Epochs'\n",
    "plt.ylabel('Loss')  # Labeling the y-axis as 'Loss'\n",
    "plt.title('Training Loss')  # Adding a title to the plot\n",
    "plt.show()  # Displaying the plot"
   ]
  },
  {
   "cell_type": "markdown",
   "metadata": {},
   "source": [
    "# Save Model"
   ]
  },
  {
   "cell_type": "code",
   "execution_count": 8,
   "metadata": {},
   "outputs": [],
   "source": [
    "PATH = 'models/cifar_cnn_cq.pth'\n",
    "torch.save(net.state_dict(), PATH)"
   ]
  },
  {
   "cell_type": "code",
   "execution_count": 9,
   "metadata": {},
   "outputs": [],
   "source": [
    "dataiter = iter(testloader)\n",
    "images, labels = next(dataiter)\n",
    "\n",
    "# print images\n",
    "# imshow(torchvision.utils.make_grid(images))\n",
    "# print('GroundTruth: ', ' '.join(f'{classes[labels[j]]:5s}' for j in range(4)))"
   ]
  },
  {
   "cell_type": "markdown",
   "metadata": {},
   "source": [
    "# Check Accuracy"
   ]
  },
  {
   "cell_type": "markdown",
   "metadata": {},
   "source": [
    "## Overall Accuracy"
   ]
  },
  {
   "cell_type": "code",
   "execution_count": 10,
   "metadata": {},
   "outputs": [
    {
     "name": "stdout",
     "output_type": "stream",
     "text": [
      "Accuracy of the network on the 10000 test images: 76%\n"
     ]
    }
   ],
   "source": [
    "correct = 0\n",
    "total = 0\n",
    "# since we're not training, we don't need to calculate the gradients for our outputs\n",
    "with torch.no_grad():\n",
    "    for data in testloader:\n",
    "        images, labels = data\n",
    "        images, labels = images.to(device), labels.to(device)\n",
    "        # calculate outputs by running images through the network\n",
    "        outputs = net(images)\n",
    "        # the class with the highest energy is what we choose as prediction\n",
    "        _, predicted = torch.max(outputs.data, 1)\n",
    "        total += labels.size(0)\n",
    "        correct += (predicted == labels).sum().item()\n",
    "\n",
    "print(f'Accuracy of the network on the 10000 test images: {100 * correct // total}%')"
   ]
  },
  {
   "cell_type": "markdown",
   "metadata": {},
   "source": [
    "## Accuracy Per Class"
   ]
  },
  {
   "cell_type": "code",
   "execution_count": 11,
   "metadata": {},
   "outputs": [
    {
     "name": "stdout",
     "output_type": "stream",
     "text": [
      "Accuracy for class: plane is 78.5 %\n",
      "Accuracy for class: car   is 87.9 %\n",
      "Accuracy for class: bird  is 66.3 %\n",
      "Accuracy for class: cat   is 60.9 %\n",
      "Accuracy for class: deer  is 76.1 %\n",
      "Accuracy for class: dog   is 67.0 %\n",
      "Accuracy for class: frog  is 81.5 %\n",
      "Accuracy for class: horse is 82.7 %\n",
      "Accuracy for class: ship  is 87.2 %\n",
      "Accuracy for class: truck is 86.3 %\n"
     ]
    }
   ],
   "source": [
    "# prepare to count predictions for each class\n",
    "correct_pred = {classname: 0 for classname in classes}\n",
    "total_pred = {classname: 0 for classname in classes}\n",
    "\n",
    "# again no gradients needed\n",
    "with torch.no_grad():\n",
    "    for data in testloader:\n",
    "        images, labels = data\n",
    "        images, labels = images.to(device), labels.to(device)\n",
    "        outputs = net(images)\n",
    "        _, predictions = torch.max(outputs, 1)\n",
    "        # collect the correct predictions for each class\n",
    "        for label, prediction in zip(labels, predictions):\n",
    "            if label == prediction:\n",
    "                correct_pred[classes[label]] += 1\n",
    "            total_pred[classes[label]] += 1\n",
    "\n",
    "\n",
    "# print accuracy for each class\n",
    "for classname, correct_count in correct_pred.items():\n",
    "    accuracy = 100 * float(correct_count) / total_pred[classname]\n",
    "    print(f'Accuracy for class: {classname:5s} is {accuracy:.1f} %')"
   ]
  },
  {
   "cell_type": "code",
   "execution_count": 12,
   "metadata": {},
   "outputs": [],
   "source": [
    "del dataiter"
   ]
  },
  {
   "cell_type": "markdown",
   "metadata": {},
   "source": [
    "# Code For Loading Learned Weights"
   ]
  },
  {
   "cell_type": "code",
   "execution_count": 13,
   "metadata": {},
   "outputs": [
    {
     "name": "stdout",
     "output_type": "stream",
     "text": [
      "Couldn't find program: 'false'\n"
     ]
    }
   ],
   "source": [
    "%%script false --no-raise-error # Disables the cell\n",
    "net = Net()\n",
    "net.load_state_dict(torch.load(PATH))"
   ]
  }
 ],
 "metadata": {
  "kernelspec": {
   "display_name": "Python 3",
   "language": "python",
   "name": "python3"
  },
  "language_info": {
   "codemirror_mode": {
    "name": "ipython",
    "version": 3
   },
   "file_extension": ".py",
   "mimetype": "text/x-python",
   "name": "python",
   "nbconvert_exporter": "python",
   "pygments_lexer": "ipython3",
   "version": "3.11.5"
  }
 },
 "nbformat": 4,
 "nbformat_minor": 2
}
